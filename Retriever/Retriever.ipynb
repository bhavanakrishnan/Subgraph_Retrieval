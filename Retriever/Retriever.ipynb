{
 "cells": [
  {
   "cell_type": "code",
   "execution_count": 1,
   "metadata": {},
   "outputs": [],
   "source": [
    "from config import cfg\n",
    "import os\n",
    "import subprocess\n",
    "\n"
   ]
  },
  {
   "cell_type": "code",
   "execution_count": 2,
   "metadata": {},
   "outputs": [],
   "source": [
    "load_data_path = \"tmp_webqsp/tmp/retriever/train.csv\"\n",
    "dump_model_path = \"tmp/model_ckpt_SimBERT\"\n",
    "\n",
    "if not os.path.exists(dump_model_path):\n",
    "    os.makedirs(dump_model_path)\n",
    "\n",
    "\n"
   ]
  },
  {
   "cell_type": "code",
   "execution_count": 5,
   "metadata": {},
   "outputs": [],
   "source": [
    "device='cpu'\n",
    "model_name_or_path=\"roberta-base\""
   ]
  },
  {
   "cell_type": "code",
   "execution_count": 6,
   "metadata": {},
   "outputs": [
    {
     "name": "stdout",
     "output_type": "stream",
     "text": [
      "Traceback (most recent call last):\n",
      "  File \"/home/animeshmohapatra/ERIC_PROJECTS/SUBGRAPHS/My_Code/Retriever/train.py\", line 37, in <module>\n",
      "    from transformers.file_utils import cached_property, torch_required, is_torch_available, is_torch_tpu_available\n",
      "ImportError: cannot import name 'torch_required' from 'transformers.file_utils' (/home/animeshmohapatra/miniconda3/envs/eric_env/lib/python3.9/site-packages/transformers/file_utils.py)\n"
     ]
    }
   ],
   "source": [
    "!python train.py \\\n",
    "    --model_name_or_path ${model_name_or_path} \\\n",
    "    --train_file ../${load_data_path} \\\n",
    "    --output_dir ../${dump_model_path} \\\n",
    "    --num_train_epochs 10 \\\n",
    "    --per_device_train_batch_size 16 \\\n",
    "    --learning_rate 5e-5 \\\n",
    "    --max_seq_length 32 \\\n",
    "    --metric_for_best_model stsb_spearman \\\n",
    "    --pooler_type cls \\\n",
    "    --overwrite_output_dir \\\n",
    "    --temp 0.05 \\\n",
    "    --do_train"
   ]
  }
 ],
 "metadata": {
  "kernelspec": {
   "display_name": "eric_env",
   "language": "python",
   "name": "python3"
  },
  "language_info": {
   "codemirror_mode": {
    "name": "ipython",
    "version": 3
   },
   "file_extension": ".py",
   "mimetype": "text/x-python",
   "name": "python",
   "nbconvert_exporter": "python",
   "pygments_lexer": "ipython3",
   "version": "3.9.18"
  }
 },
 "nbformat": 4,
 "nbformat_minor": 2
}
