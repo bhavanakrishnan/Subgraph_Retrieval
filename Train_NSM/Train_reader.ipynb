{
 "cells": [
  {
   "cell_type": "code",
   "execution_count": 1,
   "metadata": {},
   "outputs": [],
   "source": [
    "from config import cfg\n",
    "import os\n",
    "import subprocess\n",
    "\n",
    "\n"
   ]
  },
  {
   "cell_type": "code",
   "execution_count": 4,
   "metadata": {},
   "outputs": [],
   "source": [
    "def run():\n",
    "    load_data_path = \"../../../tmp_webqsp/tmp/reader_data/webqsp\"\n",
    "    dump_model_path = \"../../../tmp_webqsp/tmp/model_ckpt/nsm\"\n",
    "    \n",
    "    if not os.path.exists(dump_model_path):\n",
    "        os.makedirs(dump_model_path)\n",
    "    \n",
    "    subprocess.run([\"bash\", \"../run_train_nsm.sh\", load_data_path, dump_model_path])\n"
   ]
  },
  {
   "cell_type": "code",
   "execution_count": 5,
   "metadata": {},
   "outputs": [
    {
     "name": "stderr",
     "output_type": "stream",
     "text": [
      "../run_train_nsm.sh: line 1: cd: nsm_reader: No such file or directory\n",
      "python: can't open file '/home/animeshmohapatra/ERIC_PROJECTS/SUBGRAPHS/My_Code/Train_NSM/main_nsm.py': [Errno 2] No such file or directory\n"
     ]
    }
   ],
   "source": [
    "run()"
   ]
  }
 ],
 "metadata": {
  "kernelspec": {
   "display_name": "eric_env",
   "language": "python",
   "name": "python3"
  },
  "language_info": {
   "codemirror_mode": {
    "name": "ipython",
    "version": 3
   },
   "file_extension": ".py",
   "mimetype": "text/x-python",
   "name": "python",
   "nbconvert_exporter": "python",
   "pygments_lexer": "ipython3",
   "version": "3.9.18"
  }
 },
 "nbformat": 4,
 "nbformat_minor": 2
}
